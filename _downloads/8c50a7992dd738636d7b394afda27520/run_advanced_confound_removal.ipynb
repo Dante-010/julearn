{
  "cells": [
    {
      "cell_type": "code",
      "execution_count": null,
      "metadata": {
        "collapsed": false
      },
      "outputs": [],
      "source": [
        "%matplotlib inline"
      ]
    },
    {
      "cell_type": "markdown",
      "metadata": {},
      "source": [
        "\n# Confound Removal in Advanced Settings\n\nIn most cases confound removal is a simple operation.\nYou regress out the confound from the features and only continue working with\nthese new deconfounded features. This example will not focus on these\ntypical cases. Instead, this will show how to keep the confounds and use\nthem as additional features.\n\n.. include:: ../../links.inc\n"
      ]
    },
    {
      "cell_type": "code",
      "execution_count": null,
      "metadata": {
        "collapsed": false
      },
      "outputs": [],
      "source": [
        "# Authors: Sami Hamdan <s.hamdan@fz-juelich.de>\n#\n# License: AGPL\nfrom sklearn.datasets import load_diabetes  # to load data\nfrom julearn.pipeline import create_extended_pipeline\nfrom julearn.transformers import (get_transformer,\n                                  DataFrameConfoundRemover,\n                                  ChangeColumnTypes)\nfrom julearn.estimators import get_model\n\n\n# load in the data\ndf_features, target = load_diabetes(return_X_y=True, as_frame=True)"
      ]
    },
    {
      "cell_type": "markdown",
      "metadata": {},
      "source": [
        "First, we can have a look at our features.\nYou can see it includes\nAge, BMI, average blood pressure (bp) and 6 other measures from s1 to s6\nFurthermore, it includes sex which will be considered as a confound in\nthis example.\n\n\n"
      ]
    },
    {
      "cell_type": "code",
      "execution_count": null,
      "metadata": {
        "collapsed": false
      },
      "outputs": [],
      "source": [
        "print('Features: ', df_features.head())"
      ]
    },
    {
      "cell_type": "markdown",
      "metadata": {},
      "source": [
        "Second, we can have a look at the target\n\n"
      ]
    },
    {
      "cell_type": "code",
      "execution_count": null,
      "metadata": {
        "collapsed": false
      },
      "outputs": [],
      "source": [
        "print('Target: ', target.describe())"
      ]
    },
    {
      "cell_type": "markdown",
      "metadata": {},
      "source": [
        "In the following we will explore different settings of confound removal\nusing Julearns pipeline functionalities.\n\n<div class=\"alert alert-info\"><h4>Note</h4><p></p></div>\n Everything, shown here is also possible in Julearns `run_cross_validation`\n function.\n\n## Confound Removal Typical Use Case\nHere, we first deconfound the features.\nThe confound is automatically dropped by the `.DataFrameConfoundRemover`.\nAfterwards, we will transform our features with a pca and run\na lienar regression\n\n\n"
      ]
    },
    {
      "cell_type": "code",
      "execution_count": null,
      "metadata": {
        "collapsed": false
      },
      "outputs": [],
      "source": [
        "typical_pipe = create_extended_pipeline(\n    preprocess_steps_features=[\n        ('remove_confound', DataFrameConfoundRemover(), 'subset', 'all'),\n        ('pca', *get_transformer('pca'))\n    ],\n    preprocess_steps_confounds=None,\n    preprocess_transformer_target=None,\n    model=('lr', get_model('linreg', 'regression')),\n    confounds=['sex'],\n    categorical_features=None,\n)\ntypical_pipe.fit(df_features, target)"
      ]
    },
    {
      "cell_type": "markdown",
      "metadata": {},
      "source": [
        "We can use the `preprocess` method of the `.ExtendedDataFramePipeline`\nto inspect the transformations/preprocessing steps of our pipeline.\nBy providing a step name to the `until` argument of the\n`preprocess` method we return the transformed X and y including to this step.\nThis output always includes the transformed\nX and transformed y as a tuple.\n\n"
      ]
    },
    {
      "cell_type": "code",
      "execution_count": null,
      "metadata": {
        "collapsed": false
      },
      "outputs": [],
      "source": [
        "X_deconfounded, _ = typical_pipe.preprocess(\n    df_features, target, until='remove_confound')\nprint(X_deconfounded.head())"
      ]
    },
    {
      "cell_type": "markdown",
      "metadata": {},
      "source": [
        "As you can see the confound `sex` was dropped and only the deconfounded\nfeatures are used in the following pca.\nBut what if you want to keep the confound in the feature space.\n\nFor example, let's assume that you want to do a pca on the deconfounded\nfeatures, but still want to keep the confound as a feature.\nThis would mean that the following pca would also use the confound\nas a feature.\nLet us have a closer look to the confound remover in order to understand\nhow we could achieve such a task:\n\n.. autoclass:: julearn.transformers.DataFrameConfoundRemover\n\n"
      ]
    },
    {
      "cell_type": "markdown",
      "metadata": {},
      "source": [
        "As you can see above we can set the `keep_confounds` argument to True,\nif we want to keep the confounds.\nHere is an example of how this can look like:\n\n"
      ]
    },
    {
      "cell_type": "code",
      "execution_count": null,
      "metadata": {
        "collapsed": false
      },
      "outputs": [],
      "source": [
        "keep_confound_pipe = create_extended_pipeline(\n    preprocess_steps_features=[\n        ('remove_confound', DataFrameConfoundRemover(\n            keep_confounds=True), 'subset', 'all'),\n        ('pca', *get_transformer('pca'))\n    ],\n    preprocess_steps_confounds=None,\n    preprocess_transformer_target=None,\n    model=('lr', get_model('linreg', 'regression')),\n    confounds=['sex'],\n    categorical_features=None,\n)\nkeep_confound_pipe.fit(df_features, target)"
      ]
    },
    {
      "cell_type": "markdown",
      "metadata": {},
      "source": [
        "As you can see this will keep the confound\n\n"
      ]
    },
    {
      "cell_type": "code",
      "execution_count": null,
      "metadata": {
        "collapsed": false
      },
      "outputs": [],
      "source": [
        "X_deconfounded, _ = keep_confound_pipe.preprocess(\n    df_features, target, until='remove_confound')\nprint(X_deconfounded.head())"
      ]
    },
    {
      "cell_type": "markdown",
      "metadata": {},
      "source": [
        "Even after the pca the confound will still be present\nThis is the case because by default transformers only transform continuous\nfeatures (including features without a specified type)\nand the confound is of type confound.\n\n"
      ]
    },
    {
      "cell_type": "code",
      "execution_count": null,
      "metadata": {
        "collapsed": false
      },
      "outputs": [],
      "source": [
        "X_transformed, _ = keep_confound_pipe.preprocess(df_features, target)\nprint(X_transformed.head())\n\n# This means that the resulting Linear Regression will use the deconfounded\n# features together with the confound to predict the target."
      ]
    },
    {
      "cell_type": "markdown",
      "metadata": {},
      "source": [
        "Lastly, you can also use the confound as a normal feature after confound\nremoval. To do so you can either add the confound(s) to the\ntransformed_columns of the each following transformers\nwhich return the same columns or you can use the\n`.ChangeColumnTypes` to change the returned confounds\nto a continuous variable like this:\n\n"
      ]
    },
    {
      "cell_type": "code",
      "execution_count": null,
      "metadata": {
        "collapsed": false
      },
      "outputs": [],
      "source": [
        "confound_as_feature_pipe = create_extended_pipeline(\n    preprocess_steps_features=[\n        ('remove_confound', DataFrameConfoundRemover(\n            keep_confounds=True), 'subset', 'all'),\n        ('change_column_types', ChangeColumnTypes('.*confound', 'continuous'),\n         'from_transformer', 'all'),\n        ('pca', *get_transformer('pca'))\n    ],\n    preprocess_steps_confounds=None,\n    preprocess_transformer_target=None,\n    model=('lr', get_model('linreg', 'regression')),\n    confounds=['sex'],\n    categorical_features=None,\n)\nconfound_as_feature_pipe.fit(df_features, target)"
      ]
    },
    {
      "cell_type": "markdown",
      "metadata": {},
      "source": [
        "As you can see this will keep the confound and\nchange its type to a continuous variable.\n\n"
      ]
    },
    {
      "cell_type": "code",
      "execution_count": null,
      "metadata": {
        "collapsed": false
      },
      "outputs": [],
      "source": [
        "X_deconfounded, _ = confound_as_feature_pipe.preprocess(\n    df_features, target, until='change_column_types',\n    return_trans_column_type=True)\nprint(X_deconfounded.head())"
      ]
    },
    {
      "cell_type": "markdown",
      "metadata": {},
      "source": [
        "Because the confound is treated as a normal continuous feature\nafter removal it will be transformed in the pca as well\n\n"
      ]
    },
    {
      "cell_type": "code",
      "execution_count": null,
      "metadata": {
        "collapsed": false
      },
      "outputs": [],
      "source": [
        "X_transformed, _ = confound_as_feature_pipe.preprocess(df_features, target)\nprint(X_transformed.head())"
      ]
    }
  ],
  "metadata": {
    "kernelspec": {
      "display_name": "Python 3",
      "language": "python",
      "name": "python3"
    },
    "language_info": {
      "codemirror_mode": {
        "name": "ipython",
        "version": 3
      },
      "file_extension": ".py",
      "mimetype": "text/x-python",
      "name": "python",
      "nbconvert_exporter": "python",
      "pygments_lexer": "ipython3",
      "version": "3.7.1"
    }
  },
  "nbformat": 4,
  "nbformat_minor": 0
}