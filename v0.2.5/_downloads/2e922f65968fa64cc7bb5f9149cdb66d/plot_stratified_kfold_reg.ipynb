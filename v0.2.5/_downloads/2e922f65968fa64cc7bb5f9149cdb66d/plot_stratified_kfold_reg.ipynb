{
  "cells": [
    {
      "cell_type": "code",
      "execution_count": null,
      "metadata": {
        "collapsed": false
      },
      "outputs": [],
      "source": [
        "%matplotlib inline"
      ]
    },
    {
      "cell_type": "markdown",
      "metadata": {},
      "source": [
        "\n# Stratified K-fold CV for regression analysis\n\nThis example uses the 'diabetes' data from sklearn datasets to\nperform stratified Kfold CV for a regression problem,\n\n.. include:: ../../links.inc\n"
      ]
    },
    {
      "cell_type": "code",
      "execution_count": null,
      "metadata": {
        "collapsed": false
      },
      "outputs": [],
      "source": [
        "# Authors: Shammi More <s.more@fz-juelich.de>\n#          Federico Raimondo <f.raimondo@fz-juelich.de>\n#\n# License: AGPL\n\nimport math\nimport pandas as pd\nimport seaborn as sns\nimport matplotlib.pyplot as plt\nfrom sklearn.datasets import load_diabetes\nfrom sklearn.model_selection import KFold\n\nfrom julearn import run_cross_validation\nfrom julearn.utils import configure_logging\nfrom julearn.model_selection import StratifiedGroupsKFold"
      ]
    },
    {
      "cell_type": "markdown",
      "metadata": {},
      "source": [
        "Set the logging level to info to see extra information\n\n"
      ]
    },
    {
      "cell_type": "code",
      "execution_count": null,
      "metadata": {
        "collapsed": false
      },
      "outputs": [],
      "source": [
        "configure_logging(level='INFO')"
      ]
    },
    {
      "cell_type": "markdown",
      "metadata": {},
      "source": [
        "load the diabetes data from sklearn as a pandas dataframe\n\n"
      ]
    },
    {
      "cell_type": "code",
      "execution_count": null,
      "metadata": {
        "collapsed": false
      },
      "outputs": [],
      "source": [
        "features, target = load_diabetes(return_X_y=True, as_frame=True)"
      ]
    },
    {
      "cell_type": "markdown",
      "metadata": {},
      "source": [
        "Dataset contains ten variables age, sex, body mass index, average  blood\npressure, and six blood serum measurements (s1-s6) diabetes patients and\na quantitative measure of disease progression one year after baseline which\nis the target we are interested in predicting.\n\n"
      ]
    },
    {
      "cell_type": "code",
      "execution_count": null,
      "metadata": {
        "collapsed": false
      },
      "outputs": [],
      "source": [
        "print('Features: \\n', features.head())\nprint('Target: \\n', target.describe())"
      ]
    },
    {
      "cell_type": "markdown",
      "metadata": {},
      "source": [
        "Let's combine features and target together in one dataframe and create some\noutliers to see the difference in model performance with and without\nstratification\n\n"
      ]
    },
    {
      "cell_type": "code",
      "execution_count": null,
      "metadata": {
        "collapsed": false
      },
      "outputs": [],
      "source": [
        "data_df = pd.concat([features, target], axis=1)\n\n# Create outliers for test purpose\nnew_df = data_df[(data_df.target > 145) & (data_df.target <= 150)]\nnew_df['target'] = [590, 580, 597, 595, 590, 590, 600]\ndata_df = pd.concat([data_df, new_df], axis=0)\ndata_df =  data_df.reset_index(drop=True)\n\n# define X, y\nX = ['age', 'sex', 'bmi', 'bp', 's1', 's2', 's3', 's4', 's5', 's6']\ny = 'target'"
      ]
    },
    {
      "cell_type": "markdown",
      "metadata": {},
      "source": [
        "Define number of splits for CV and create bins/group for stratification\n\n"
      ]
    },
    {
      "cell_type": "code",
      "execution_count": null,
      "metadata": {
        "collapsed": false
      },
      "outputs": [],
      "source": [
        "num_splits = 7\n\nnum_bins = math.floor(len(data_df) / num_splits)  # num of bins to be created\nbins_on = data_df.target  # variable to be used for stratification\nqc = pd.cut(bins_on.tolist(), num_bins)  # divides data in bins\ndata_df['bins'] = qc.codes\ngroups = 'bins'"
      ]
    },
    {
      "cell_type": "markdown",
      "metadata": {},
      "source": [
        "Train a linear regression model with stratification on target\n\n"
      ]
    },
    {
      "cell_type": "code",
      "execution_count": null,
      "metadata": {
        "collapsed": false
      },
      "outputs": [],
      "source": [
        "cv_stratified = StratifiedGroupsKFold(n_splits=num_splits, shuffle=False)\nscores_strat, model = run_cross_validation(\n    X=X, y=y, data=data_df, preprocess_X='zscore', cv=cv_stratified,\n    groups=groups, problem_type='regression', model='linreg',\n    return_estimator='final', scoring='neg_mean_absolute_error')"
      ]
    },
    {
      "cell_type": "markdown",
      "metadata": {},
      "source": [
        "Train a linear regression model without stratification on target\n\n"
      ]
    },
    {
      "cell_type": "code",
      "execution_count": null,
      "metadata": {
        "collapsed": false
      },
      "outputs": [],
      "source": [
        "cv = KFold(n_splits=num_splits, shuffle=False, random_state=None)\nscores, model = run_cross_validation(\n    X=X, y=y, data=data_df, preprocess_X='zscore', cv=cv,\n    problem_type='regression', model='linreg', return_estimator='final',\n    scoring='neg_mean_absolute_error')"
      ]
    },
    {
      "cell_type": "markdown",
      "metadata": {},
      "source": [
        "Now we can compare the test score for model trained with and without\nstratification. We can combine the two outputs as pandas dataframes\n\n"
      ]
    },
    {
      "cell_type": "code",
      "execution_count": null,
      "metadata": {
        "collapsed": false
      },
      "outputs": [],
      "source": [
        "scores_strat['model'] = 'With stratification'\nscores['model'] = 'Without stratification'\ndf_scores = scores_strat[['test_score', 'model']]\ndf_scores  = pd.concat([df_scores, scores[['test_score', 'model']]])"
      ]
    },
    {
      "cell_type": "markdown",
      "metadata": {},
      "source": [
        "Plot a boxplot with test scores from both the models. We see here that\nthe variance for the test score is much higher when CV splits were not\nstratified\n\n"
      ]
    },
    {
      "cell_type": "code",
      "execution_count": null,
      "metadata": {
        "collapsed": false
      },
      "outputs": [],
      "source": [
        "fig, ax = plt.subplots(1, 1, figsize=(10, 7))\nsns.set_style(\"darkgrid\")\nax = sns.boxplot(x='model', y='test_score', data=df_scores)\nax = sns.swarmplot(x=\"model\", y=\"test_score\", data=df_scores, color=\".25\")"
      ]
    }
  ],
  "metadata": {
    "kernelspec": {
      "display_name": "Python 3",
      "language": "python",
      "name": "python3"
    },
    "language_info": {
      "codemirror_mode": {
        "name": "ipython",
        "version": 3
      },
      "file_extension": ".py",
      "mimetype": "text/x-python",
      "name": "python",
      "nbconvert_exporter": "python",
      "pygments_lexer": "ipython3",
      "version": "3.8.13"
    }
  },
  "nbformat": 4,
  "nbformat_minor": 0
}