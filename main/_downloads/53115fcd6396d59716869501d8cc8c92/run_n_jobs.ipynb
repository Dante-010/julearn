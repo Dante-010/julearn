{
  "cells": [
    {
      "cell_type": "code",
      "execution_count": null,
      "metadata": {
        "collapsed": false
      },
      "outputs": [],
      "source": [
        "%matplotlib inline"
      ]
    },
    {
      "cell_type": "markdown",
      "metadata": {},
      "source": [
        "\n# Parallelize Julearn\n\nIn this example we will parallelize outer cross-validation\nand/or inner cross-validation for hyperparameter search.\n\n.. include:: ../../links.inc\n"
      ]
    },
    {
      "cell_type": "code",
      "execution_count": null,
      "metadata": {
        "collapsed": false
      },
      "outputs": [],
      "source": [
        "# Authors: Sami Hamdan <s.hamdan@fz-juelich.de>\n#\n# License: AGPL\nfrom seaborn import load_dataset\nfrom julearn import run_cross_validation"
      ]
    },
    {
      "cell_type": "markdown",
      "metadata": {},
      "source": [
        "prepare some simple standard input\n\n"
      ]
    },
    {
      "cell_type": "code",
      "execution_count": null,
      "metadata": {
        "collapsed": false
      },
      "outputs": [],
      "source": [
        "df_iris = load_dataset(\"iris\")\ndf_iris = df_iris[df_iris['species'].isin(['versicolor', 'virginica'])]\n\nX = ['sepal_length', 'sepal_width', 'petal_length']\ny = 'species'"
      ]
    },
    {
      "cell_type": "markdown",
      "metadata": {},
      "source": [
        "run without any parallelization\n\n"
      ]
    },
    {
      "cell_type": "code",
      "execution_count": null,
      "metadata": {
        "collapsed": false
      },
      "outputs": [],
      "source": [
        "scores = run_cross_validation(\n    X=X, y=y, data=df_iris, model='svm',\n    model_params=dict(svm__C=[1, 2, 3]))"
      ]
    },
    {
      "cell_type": "markdown",
      "metadata": {},
      "source": [
        "To add parallelization to the outer cross-validation we\nwill add the n_jobs argument to run_cross_validation.\nWe can use verbose > 0 to get more information\nabout the parallelization done.\nHere, I will set the parallel jobs to 2.\n\n"
      ]
    },
    {
      "cell_type": "code",
      "execution_count": null,
      "metadata": {
        "collapsed": false
      },
      "outputs": [],
      "source": [
        "scores = run_cross_validation(\n    X=X, y=y, data=df_iris, model='svm',\n    model_params=dict(svm__C=[1, 2, 3]),\n    n_jobs=2, verbose=3\n)"
      ]
    },
    {
      "cell_type": "markdown",
      "metadata": {},
      "source": [
        "We can also parallelize over the hyperparameter search/inner cv.\nThis will work by using the n_jobs argument of the searcher itself, e.g.\nby default `sklearn.model_selection.GridSearchCV`.\nTo adjust the parameters of the search we have to use the search_params\ninside of the model_params like this:\n\n"
      ]
    },
    {
      "cell_type": "code",
      "execution_count": null,
      "metadata": {
        "collapsed": false
      },
      "outputs": [],
      "source": [
        "model_params = dict(\n    svm__C=[1, 2, 3],\n    search_params=dict(n_jobs=2, verbose=3)\n)\n\nscores = run_cross_validation(\n    X=X, y=y, data=df_iris, model='svm',\n    model_params=model_params\n)"
      ]
    },
    {
      "cell_type": "markdown",
      "metadata": {},
      "source": [
        "Depending on your resources you can use n_jobs for outer cv, inner cv or\neven as a model_parameter for some models like `rf`.\nAdditionally, you can also use the scikitlearns `parallel_backend` for\nparallelization.\n\n"
      ]
    }
  ],
  "metadata": {
    "kernelspec": {
      "display_name": "Python 3",
      "language": "python",
      "name": "python3"
    },
    "language_info": {
      "codemirror_mode": {
        "name": "ipython",
        "version": 3
      },
      "file_extension": ".py",
      "mimetype": "text/x-python",
      "name": "python",
      "nbconvert_exporter": "python",
      "pygments_lexer": "ipython3",
      "version": "3.8.13"
    }
  },
  "nbformat": 4,
  "nbformat_minor": 0
}