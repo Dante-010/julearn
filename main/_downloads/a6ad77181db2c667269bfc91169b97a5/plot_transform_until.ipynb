{
  "cells": [
    {
      "cell_type": "code",
      "execution_count": null,
      "metadata": {
        "collapsed": false
      },
      "outputs": [],
      "source": [
        "%matplotlib inline"
      ]
    },
    {
      "cell_type": "markdown",
      "metadata": {},
      "source": [
        "\n# Preprocessing with variance threshold, zscore and PCA\n\nThis example uses the 'iris' dataset, performs simple binary\nclassification after the pre-processing the features including removal of low\nvariance features, feature normalization using zscore and feature reduction\nusing PCA. We will check the features after each preprocessing step.\n"
      ]
    },
    {
      "cell_type": "code",
      "execution_count": null,
      "metadata": {
        "collapsed": false
      },
      "outputs": [],
      "source": [
        "# Authors: Shammi More <s.more@fz-juelich.de>\n#\n# License: AGPL\n\nimport matplotlib.pyplot as plt\nimport seaborn as sns\nfrom seaborn import load_dataset\n\nfrom julearn import run_cross_validation\nfrom julearn.utils import configure_logging"
      ]
    },
    {
      "cell_type": "markdown",
      "metadata": {},
      "source": [
        "Set the logging level to info to see extra information\n\n"
      ]
    },
    {
      "cell_type": "code",
      "execution_count": null,
      "metadata": {
        "collapsed": false
      },
      "outputs": [],
      "source": [
        "configure_logging(level='INFO')"
      ]
    },
    {
      "cell_type": "markdown",
      "metadata": {},
      "source": [
        "Load the iris data from seaborn\n\n"
      ]
    },
    {
      "cell_type": "code",
      "execution_count": null,
      "metadata": {
        "collapsed": false
      },
      "outputs": [],
      "source": [
        "df_iris = load_dataset('iris')"
      ]
    },
    {
      "cell_type": "markdown",
      "metadata": {},
      "source": [
        "The dataset has three kind of species. We will keep two to perform a binary\nclassification.\n\n"
      ]
    },
    {
      "cell_type": "code",
      "execution_count": null,
      "metadata": {
        "collapsed": false
      },
      "outputs": [],
      "source": [
        "df_iris = df_iris[df_iris['species'].isin(['versicolor', 'virginica'])]"
      ]
    },
    {
      "cell_type": "markdown",
      "metadata": {},
      "source": [
        "We will use the sepal length, width and petal length and\npetal width as features and predict the species\n\n"
      ]
    },
    {
      "cell_type": "code",
      "execution_count": null,
      "metadata": {
        "collapsed": false
      },
      "outputs": [],
      "source": [
        "X = ['sepal_length', 'sepal_width', 'petal_length', 'petal_width']\ny = 'species'"
      ]
    },
    {
      "cell_type": "markdown",
      "metadata": {},
      "source": [
        "Let's look at the summary statistics of the raw features\n\n"
      ]
    },
    {
      "cell_type": "code",
      "execution_count": null,
      "metadata": {
        "collapsed": false
      },
      "outputs": [],
      "source": [
        "print('Summary Statistics of the raw features : \\n', df_iris.describe())"
      ]
    },
    {
      "cell_type": "markdown",
      "metadata": {},
      "source": [
        "We will preprocess the features using variance thresholding, zscore and PCA\nand then train a random forest model\n\n"
      ]
    },
    {
      "cell_type": "code",
      "execution_count": null,
      "metadata": {
        "collapsed": false
      },
      "outputs": [],
      "source": [
        "# Define the model parameters and preprocessing steps first\n# Setting the threshold for variance to 0.15, number of PCA components to 2\n# and number of trees for random forest to 200\n\nmodel_params = {'select_variance__threshold': 0.15,\n                'pca__n_components': 2,\n                'rf__n_estimators': 200}\n\npreprocess_X = ['select_variance', 'zscore', 'pca']\n\nscores, model = run_cross_validation(\n    X=X, y=y, data=df_iris, model='rf', preprocess_X=preprocess_X,\n    scoring=['accuracy', 'roc_auc'], model_params=model_params,\n    return_estimator='final', seed=200)"
      ]
    },
    {
      "cell_type": "markdown",
      "metadata": {},
      "source": [
        "Now let's look at the data after pre-processing. It can be done using\n'preprocess' method. By default it will apply all the pre-processing steps\n(`'select_variance'`, `'zscore'`, `'pca'` in this case) and return\npre-processed data. Note that here we are applying pre-processing only on X.\nNotice that the column names have changed in this new dataframe.\n\n"
      ]
    },
    {
      "cell_type": "code",
      "execution_count": null,
      "metadata": {
        "collapsed": false
      },
      "outputs": [],
      "source": [
        "pre_X, pre_y = model.preprocess(df_iris[X], df_iris[y])\nprint('Features after PCA : \\n', pre_X)\n\n# Let's plot scatter plots for raw features and the PCA components\npre_df = pre_X.join(pre_y)\nfig, axes = plt.subplots(1, 2, figsize=(12, 6))\nsns.scatterplot(x='sepal_length', y='sepal_width', data=df_iris, hue='species',\n                ax=axes[0])\naxes[0].set_title('Raw features')\nsns.scatterplot(x='pca_component_0', y='pca_component_1', data=pre_df,\n                hue='species', ax=axes[1])\naxes[1].set_title('PCA components')"
      ]
    },
    {
      "cell_type": "markdown",
      "metadata": {},
      "source": [
        "But let's say we want to look at features after applying only one or more\npreprocessing steps eg: only variance thresholding or till zscore.\nTo do so we can set the argument `until` to the desired preprocessing step.\nNote that the name of the preprocessing step is the same as used in the\n`run_cross_validation` function in `preprocess_X`.\n\n"
      ]
    },
    {
      "cell_type": "code",
      "execution_count": null,
      "metadata": {
        "collapsed": false
      },
      "outputs": [],
      "source": [
        "# Let's look at features after variance thresholding. We see that now we have\n# one feature less as the variance for this feature ('sepal_width') was below\n# the set threshold.\n\nvar_th_X, var_th_y = model.preprocess(df_iris[X], df_iris[y],\n                                      until='select_variance')\nprint('Features after variance thresholding: \\n', var_th_X)"
      ]
    },
    {
      "cell_type": "markdown",
      "metadata": {},
      "source": [
        "Now let's see features after variance thresholding and zscoring. We can now\nset the `until` argument to `'zscore'`\n\n"
      ]
    },
    {
      "cell_type": "code",
      "execution_count": null,
      "metadata": {
        "collapsed": false
      },
      "outputs": [],
      "source": [
        "zscored_X, zscored_y = model.preprocess(df_iris[X], df_iris[y], until='zscore')\nzscored_df = zscored_X.join(zscored_y)"
      ]
    },
    {
      "cell_type": "markdown",
      "metadata": {},
      "source": [
        "Let's look at the summary statistics of the zscored features. We see here\nthat the mean of all the features is zero and standard deviation is one.\n\n"
      ]
    },
    {
      "cell_type": "code",
      "execution_count": null,
      "metadata": {
        "collapsed": false
      },
      "outputs": [],
      "source": [
        "print('Summary Statistics of the zscored features : \\n', zscored_df.describe())"
      ]
    },
    {
      "cell_type": "markdown",
      "metadata": {},
      "source": [
        "We can also look at the features pre-processed till PCA. Since `'pca'` is the\nlast preprocessing step we don't really need the `until` argument\n(as shown above).\n\n"
      ]
    },
    {
      "cell_type": "code",
      "execution_count": null,
      "metadata": {
        "collapsed": false
      },
      "outputs": [],
      "source": [
        "pre_X, pre_y = model.preprocess(df_iris[X], df_iris[y], until='pca')\nprint('Features after PCA : \\n', pre_X)"
      ]
    }
  ],
  "metadata": {
    "kernelspec": {
      "display_name": "Python 3",
      "language": "python",
      "name": "python3"
    },
    "language_info": {
      "codemirror_mode": {
        "name": "ipython",
        "version": 3
      },
      "file_extension": ".py",
      "mimetype": "text/x-python",
      "name": "python",
      "nbconvert_exporter": "python",
      "pygments_lexer": "ipython3",
      "version": "3.8.16"
    }
  },
  "nbformat": 4,
  "nbformat_minor": 0
}